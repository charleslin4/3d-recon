{
 "cells": [
  {
   "cell_type": "code",
   "execution_count": 22,
   "id": "2f4c06f4",
   "metadata": {},
   "outputs": [
    {
     "name": "stdout",
     "output_type": "stream",
     "text": [
      "Requirement already satisfied: torch in /opt/anaconda3/lib/python3.8/site-packages (1.7.0)\n",
      "Requirement already satisfied: torchvision in /opt/anaconda3/lib/python3.8/site-packages (0.8.1)\n",
      "Requirement already satisfied: numpy in /opt/anaconda3/lib/python3.8/site-packages (from torch) (1.20.2)\n",
      "Requirement already satisfied: dataclasses in /opt/anaconda3/lib/python3.8/site-packages (from torch) (0.6)\n",
      "Requirement already satisfied: future in /opt/anaconda3/lib/python3.8/site-packages (from torch) (0.18.2)\n",
      "Requirement already satisfied: typing-extensions in /opt/anaconda3/lib/python3.8/site-packages (from torch) (3.7.4.3)\n",
      "Requirement already satisfied: pillow>=4.1.1 in /opt/anaconda3/lib/python3.8/site-packages (from torchvision) (8.2.0)\n",
      "--2021-05-05 23:30:54--  https://raw.githubusercontent.com/facebookresearch/pytorch3d/master/pytorch3d/datasets/shapenet/shapenet_synset_dict_v1.json\n",
      "Resolving raw.githubusercontent.com (raw.githubusercontent.com)... 185.199.111.133, 185.199.110.133, 185.199.109.133, ...\n",
      "Connecting to raw.githubusercontent.com (raw.githubusercontent.com)|185.199.111.133|:443... connected.\n",
      "HTTP request sent, awaiting response... 200 OK\n",
      "Length: 1510 (1.5K) [text/plain]\n",
      "/path/to/pytorch3d/datasets/shapenet: No such file or directory\n",
      "/path/to/pytorch3d/datasets/shapenet/shapenet_synset_dict_v1.json: No such file or directory\n",
      "\n",
      "Cannot write to ‘/path/to/pytorch3d/datasets/shapenet/shapenet_synset_dict_v1.json’ (Success).\n",
      "--2021-05-05 23:30:55--  https://raw.githubusercontent.com/facebookresearch/pytorch3d/master/pytorch3d/datasets/r2n2/r2n2_synset_dict.json\n",
      "Resolving raw.githubusercontent.com (raw.githubusercontent.com)... 185.199.111.133, 185.199.110.133, 185.199.109.133, ...\n",
      "Connecting to raw.githubusercontent.com (raw.githubusercontent.com)|185.199.111.133|:443... connected.\n",
      "HTTP request sent, awaiting response... 200 OK\n",
      "Length: 346 [text/plain]\n",
      "/path/to/pytorch3d/datasets/r2n2: No such file or directory\n",
      "/path/to/pytorch3d/datasets/r2n2/r2n2_synset_dict.json: No such file or directory\n",
      "\n",
      "Cannot write to ‘/path/to/pytorch3d/datasets/r2n2/r2n2_synset_dict.json’ (Success).\n"
     ]
    }
   ],
   "source": [
    "import sys\n",
    "\n",
    "!wget https://raw.githubusercontent.com/facebookresearch/pytorch3d/master/pytorch3d/datasets/shapenet/shapenet_synset_dict_v1.json -P /path/to/pytorch3d/datasets/shapenet\n",
    "!wget https://raw.githubusercontent.com/facebookresearch/pytorch3d/master/pytorch3d/datasets/r2n2/r2n2_synset_dict.json -P /path/to/pytorch3d/datasets/r2n2\n",
    "\n",
    "sys.path.insert(0, '../src')\n",
    "from autoencoder import *"
   ]
  },
  {
   "cell_type": "code",
   "execution_count": 23,
   "id": "d604d9b2",
   "metadata": {},
   "outputs": [
    {
     "name": "stderr",
     "output_type": "stream",
     "text": [
      "usage: ipykernel_launcher.py [-h] [--gpus GPUS] [--data_dir DATA_DIR]\n",
      "ipykernel_launcher.py: error: unrecognized arguments: -f /Users/carolinechoi/Library/Jupyter/runtime/kernel-77e7cdbd-ab19-4dba-9340-25d83bed99d3.json\n"
     ]
    },
    {
     "ename": "SystemExit",
     "evalue": "2",
     "output_type": "error",
     "traceback": [
      "An exception has occurred, use %tb to see the full traceback.\n",
      "\u001b[0;31mSystemExit\u001b[0m\u001b[0;31m:\u001b[0m 2\n"
     ]
    }
   ],
   "source": [
    "import os\n",
    "import argparse\n",
    "\n",
    "import torch\n",
    "from torch.utils.data import DataLoader\n",
    "from pytorch3d.datasets import R2N2, collate_batched_R2N2\n",
    "\n",
    "import pytorch_lightning as pl\n",
    "from pytorch_lightning.loggers import WandbLogger\n",
    "\n",
    "from autoencoder import AutoEncoder\n",
    "\n",
    "\n",
    "if __name__ == \"__main__\":\n",
    "    parser = argparse.ArgumentParser()\n",
    "    parser.add_argument('--gpus', default=1)\n",
    "    parser.add_argument('--data_dir', type=str, default='/home/data')\n",
    "    args = parser.parse_args()\n",
    "\n",
    "    synsets = ['cabinet']  # use one synset for easy prototyping\n",
    "    shapenet_path = os.path.join(args.data_dir, 'ShapeNet/ShapeNetCore.v1')\n",
    "    r2n2_path = os.path.join(args.data_dir, 'ShapeNet')\n",
    "    r2n2_splits = os.path.join(args.data_dir, 'ShapeNet/ShapeNetRendering/pix2mesh_splits_val05.json')\n",
    "\n",
    "    train_set = R2N2(\"train\", shapenet_path, r2n2_path, r2n2_splits, return_voxels=False)\n",
    "    val_set = R2N2(\"val\", shapenet_path, r2n2_path, r2n2_splits, return_voxels=False)\n",
    "\n",
    "    train_loader = DataLoader(train_set, batch_size=4, collate_fn=collate_batched_R2N2, num_workers=2)\n",
    "    val_loader = DataLoader(val_set, batch_size=4, collate_fn=collate_batched_R2N2, num_workers=2)\n",
    "\n",
    "    ae = AutoEncoder()  # TODO pass in whatever args are used in the constructor\n",
    "    wandb_logger = WandbLogger(name='test', project='3d-recon', entity='3drecon2')\n",
    "    trainer = pl.Trainer(gpus=args.gpus, logger=wandb_logger)\n",
    "    trainer.fit(ae, train_loader, val_loader)"
   ]
  },
  {
   "cell_type": "code",
   "execution_count": null,
   "id": "30cc6028",
   "metadata": {},
   "outputs": [],
   "source": [
    "import torch\n",
    "import torch.nn as nn\n",
    "import torchvision\n",
    "from torchvision.models.detection.backbone_utils import resnet_fpn_backbone\n",
    "import pytorch_lightning as pl\n",
    "\n",
    "from pytorch3d.datasets import BlenderCamera\n",
    "from pytorch3d.structures import Pointclouds\n",
    "from pytorch3d.ops import sample_points_from_meshes, vert_align\n",
    "from pytorch3d.utils import ico_sphere\n",
    "from pytorch3d.renderer import (\n",
    "    FoVOrthographicCameras,\n",
    "    PointsRasterizationSettings,\n",
    "    PointsRasterizer,\n",
    "    PointsRenderer,\n",
    "    PointLights,\n",
    "    AlphaCompositor,\n",
    "    NormWeightedCompositor\n",
    ")\n",
    "\n",
    "from autoencoder import Encoder, Decoder\n",
    "\n",
    "DEVICE = 'cuda' if torch.cuda.is_available() else 'cpu'\n",
    "\n",
    "\n",
    "train_set = R2N2(\"train\", shapenet_path, r2n2_path, r2n2_splits, return_voxels=False)\n",
    "train_loader = DataLoader(train_set, batch_size=args.bs, collate_fn=collate_batched_R2N2, num_workers=2)\n",
    "\n",
    "batch = next(iter(train_loader))\n",
    "\n",
    "encoder = Encoder()\n",
    "decoder = Decoder()\n",
    "\n"
   ]
  }
 ],
 "metadata": {
  "kernelspec": {
   "display_name": "Python 3",
   "language": "python",
   "name": "python3"
  },
  "language_info": {
   "codemirror_mode": {
    "name": "ipython",
    "version": 3
   },
   "file_extension": ".py",
   "mimetype": "text/x-python",
   "name": "python",
   "nbconvert_exporter": "python",
   "pygments_lexer": "ipython3",
   "version": "3.8.5"
  }
 },
 "nbformat": 4,
 "nbformat_minor": 5
}
