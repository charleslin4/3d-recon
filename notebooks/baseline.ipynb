{
 "cells": [
  {
   "cell_type": "code",
   "execution_count": 1,
   "id": "b55070f5",
   "metadata": {},
   "outputs": [
    {
     "name": "stdout",
     "output_type": "stream",
     "text": [
      "--2021-05-06 00:37:32--  https://raw.githubusercontent.com/facebookresearch/pytorch3d/master/pytorch3d/datasets/shapenet/shapenet_synset_dict_v1.json\n",
      "Resolving raw.githubusercontent.com (raw.githubusercontent.com)... 185.199.109.133, 185.199.110.133, 185.199.111.133, ...\n",
      "Connecting to raw.githubusercontent.com (raw.githubusercontent.com)|185.199.109.133|:443... connected.\n",
      "HTTP request sent, awaiting response... 200 OK\n",
      "Length: 1510 (1.5K) [text/plain]\n",
      "Saving to: ‘./data/ShapeNet/ShapeNetCore.v1/shapenet_synset_dict_v1.json.3’\n",
      "\n",
      "shapenet_synset_dic 100%[===================>]   1.47K  --.-KB/s    in 0s      \n",
      "\n",
      "2021-05-06 00:37:32 (5.27 MB/s) - ‘./data/ShapeNet/ShapeNetCore.v1/shapenet_synset_dict_v1.json.3’ saved [1510/1510]\n",
      "\n",
      "--2021-05-06 00:37:32--  https://raw.githubusercontent.com/facebookresearch/pytorch3d/master/pytorch3d/datasets/r2n2/r2n2_synset_dict.json\n",
      "Resolving raw.githubusercontent.com (raw.githubusercontent.com)... 185.199.110.133, 185.199.111.133, 185.199.108.133, ...\n",
      "Connecting to raw.githubusercontent.com (raw.githubusercontent.com)|185.199.110.133|:443... connected.\n",
      "HTTP request sent, awaiting response... 200 OK\n",
      "Length: 346 [text/plain]\n",
      "Saving to: ‘./data/ShapeNet/r2n2_synset_dict.json.2’\n",
      "\n",
      "r2n2_synset_dict.js 100%[===================>]     346  --.-KB/s    in 0s      \n",
      "\n",
      "2021-05-06 00:37:32 (4.46 MB/s) - ‘./data/ShapeNet/r2n2_synset_dict.json.2’ saved [346/346]\n",
      "\n"
     ]
    }
   ],
   "source": [
    "!wget https://raw.githubusercontent.com/facebookresearch/pytorch3d/master/pytorch3d/datasets/shapenet/shapenet_synset_dict_v1.json -P ./data/ShapeNet/ShapeNetCore.v1\n",
    "!wget https://raw.githubusercontent.com/facebookresearch/pytorch3d/master/pytorch3d/datasets/r2n2/r2n2_synset_dict.json -P ./data/ShapeNet/"
   ]
  },
  {
   "cell_type": "code",
   "execution_count": 1,
   "id": "8e07900e",
   "metadata": {},
   "outputs": [],
   "source": [
    "import os\n",
    "import sys\n",
    "sys.path.append(os.path.abspath('..'))\n",
    "\n",
    "import numpy as np\n",
    "import torch\n",
    "import pytorch3d\n",
    "\n",
    "from pytorch3d.datasets import (\n",
    "    R2N2,\n",
    "    ShapeNetCore,\n",
    "    collate_batched_meshes,\n",
    "    collate_batched_R2N2,\n",
    "    render_cubified_voxels,\n",
    ")\n",
    "from pytorch3d.renderer import (\n",
    "    OpenGLPerspectiveCameras,\n",
    "    PointLights,\n",
    "    RasterizationSettings,\n",
    "    TexturesVertex,\n",
    "    look_at_view_transform,\n",
    ")\n",
    "\n",
    "from pytorch3d.structures import Meshes, Pointclouds\n",
    "from torch.utils.data import DataLoader\n",
    "#from src.utils.plot_image_grid import image_grid\n",
    "\n",
    "#sys.path.insert(0, '../src')\n",
    "#from autoencoder import *"
   ]
  },
  {
   "cell_type": "code",
   "execution_count": 3,
   "id": "db7a1570",
   "metadata": {},
   "outputs": [
    {
     "ename": "FileNotFoundError",
     "evalue": "[Errno 2] No such file or directory: '/opt/anaconda3/lib/python3.8/site-packages/pytorch3d/datasets/shapenet/shapenet_synset_dict_v1.json'",
     "output_type": "error",
     "traceback": [
      "\u001b[0;31m---------------------------------------------------------------------------\u001b[0m",
      "\u001b[0;31mFileNotFoundError\u001b[0m                         Traceback (most recent call last)",
      "\u001b[0;32m<ipython-input-3-e3bffae56586>\u001b[0m in \u001b[0;36m<module>\u001b[0;34m\u001b[0m\n\u001b[1;32m      7\u001b[0m \u001b[0;31m#SHAPENET_PATH = \"/iris/u/clin/code/cs231n-project/data/ShapeNet/ShapeNetCore.v1/\"\u001b[0m\u001b[0;34m\u001b[0m\u001b[0;34m\u001b[0m\u001b[0;34m\u001b[0m\u001b[0m\n\u001b[1;32m      8\u001b[0m \u001b[0mSHAPENET_PATH\u001b[0m \u001b[0;34m=\u001b[0m \u001b[0;34m\"./data/ShapeNet/ShapeNetCore.v1/\"\u001b[0m\u001b[0;34m\u001b[0m\u001b[0;34m\u001b[0m\u001b[0m\n\u001b[0;32m----> 9\u001b[0;31m \u001b[0mshapenet_dataset\u001b[0m \u001b[0;34m=\u001b[0m \u001b[0mShapeNetCore\u001b[0m\u001b[0;34m(\u001b[0m\u001b[0mSHAPENET_PATH\u001b[0m\u001b[0;34m)\u001b[0m\u001b[0;34m\u001b[0m\u001b[0;34m\u001b[0m\u001b[0m\n\u001b[0m\u001b[1;32m     10\u001b[0m \u001b[0;31m#shapenet_dataset = ShapeNetCore(SHAPENET_PATH, synsets=['cabinet'])\u001b[0m\u001b[0;34m\u001b[0m\u001b[0;34m\u001b[0m\u001b[0;34m\u001b[0m\u001b[0m\n",
      "\u001b[0;32m/opt/anaconda3/lib/python3.8/site-packages/pytorch3d/datasets/shapenet/shapenet_core.py\u001b[0m in \u001b[0;36m__init__\u001b[0;34m(self, data_dir, synsets, version, load_textures, texture_resolution)\u001b[0m\n\u001b[1;32m     62\u001b[0m         \u001b[0;31m# Synset dictionary mapping synset offsets to corresponding labels.\u001b[0m\u001b[0;34m\u001b[0m\u001b[0;34m\u001b[0m\u001b[0;34m\u001b[0m\u001b[0m\n\u001b[1;32m     63\u001b[0m         \u001b[0mdict_file\u001b[0m \u001b[0;34m=\u001b[0m \u001b[0;34m\"shapenet_synset_dict_v%d.json\"\u001b[0m \u001b[0;34m%\u001b[0m \u001b[0mversion\u001b[0m\u001b[0;34m\u001b[0m\u001b[0;34m\u001b[0m\u001b[0m\n\u001b[0;32m---> 64\u001b[0;31m         \u001b[0;32mwith\u001b[0m \u001b[0mopen\u001b[0m\u001b[0;34m(\u001b[0m\u001b[0mpath\u001b[0m\u001b[0;34m.\u001b[0m\u001b[0mjoin\u001b[0m\u001b[0;34m(\u001b[0m\u001b[0mSYNSET_DICT_DIR\u001b[0m\u001b[0;34m,\u001b[0m \u001b[0mdict_file\u001b[0m\u001b[0;34m)\u001b[0m\u001b[0;34m,\u001b[0m \u001b[0;34m\"r\"\u001b[0m\u001b[0;34m)\u001b[0m \u001b[0;32mas\u001b[0m \u001b[0mread_dict\u001b[0m\u001b[0;34m:\u001b[0m\u001b[0;34m\u001b[0m\u001b[0;34m\u001b[0m\u001b[0m\n\u001b[0m\u001b[1;32m     65\u001b[0m             \u001b[0mself\u001b[0m\u001b[0;34m.\u001b[0m\u001b[0msynset_dict\u001b[0m \u001b[0;34m=\u001b[0m \u001b[0mjson\u001b[0m\u001b[0;34m.\u001b[0m\u001b[0mload\u001b[0m\u001b[0;34m(\u001b[0m\u001b[0mread_dict\u001b[0m\u001b[0;34m)\u001b[0m\u001b[0;34m\u001b[0m\u001b[0;34m\u001b[0m\u001b[0m\n\u001b[1;32m     66\u001b[0m         \u001b[0;31m# Inverse dicitonary mapping synset labels to corresponding offsets.\u001b[0m\u001b[0;34m\u001b[0m\u001b[0;34m\u001b[0m\u001b[0;34m\u001b[0m\u001b[0m\n",
      "\u001b[0;31mFileNotFoundError\u001b[0m: [Errno 2] No such file or directory: '/opt/anaconda3/lib/python3.8/site-packages/pytorch3d/datasets/shapenet/shapenet_synset_dict_v1.json'"
     ]
    }
   ],
   "source": [
    "if torch.cuda.is_available():\n",
    "    device = torch.device(\"cuda:0\")\n",
    "    torch.cuda.set_device(device)\n",
    "else:\n",
    "    device = torch.device(\"cpu\")\n",
    "    \n",
    "#SHAPENET_PATH = \"/iris/u/clin/code/cs231n-project/data/ShapeNet/ShapeNetCore.v1/\"\n",
    "SHAPENET_PATH = \"./data/ShapeNet/ShapeNetCore.v1/\"\n",
    "shapenet_dataset = ShapeNetCore(SHAPENET_PATH)\n",
    "#shapenet_dataset = ShapeNetCore(SHAPENET_PATH, synsets=['cabinet'])"
   ]
  },
  {
   "cell_type": "code",
   "execution_count": null,
   "id": "282445f3",
   "metadata": {},
   "outputs": [],
   "source": [
    "shapenet_dataset.synset_num_models"
   ]
  },
  {
   "cell_type": "code",
   "execution_count": null,
   "id": "c9b6d9c2",
   "metadata": {},
   "outputs": [],
   "source": [
    "R2N2_PATH = \"/iris/u/clin/code/cs231n-project/data/ShapeNet/\"\n",
    "SPLITS_PATH = \"/iris/u/clin/code/cs231n-project/data/ShapeNet/ShapeNetRendering/pix2mesh_splits_val05.json\"\n",
    "r2n2_dataset = R2N2(\"train\", SHAPENET_PATH, R2N2_PATH, SPLITS_PATH, return_voxels=False)"
   ]
  },
  {
   "cell_type": "code",
   "execution_count": null,
   "id": "296985b8",
   "metadata": {},
   "outputs": [],
   "source": [
    "r2n2_dataset.synset_num_models"
   ]
  },
  {
   "cell_type": "code",
   "execution_count": 25,
   "id": "2f4c06f4",
   "metadata": {},
   "outputs": [],
   "source": []
  },
  {
   "cell_type": "code",
   "execution_count": null,
   "id": "fbc589d9",
   "metadata": {},
   "outputs": [],
   "source": []
  },
  {
   "cell_type": "code",
   "execution_count": 26,
   "id": "d604d9b2",
   "metadata": {},
   "outputs": [
    {
     "name": "stderr",
     "output_type": "stream",
     "text": [
      "usage: ipykernel_launcher.py [-h] [--gpus GPUS] [--data_dir DATA_DIR]\n",
      "ipykernel_launcher.py: error: unrecognized arguments: -f /Users/carolinechoi/Library/Jupyter/runtime/kernel-77e7cdbd-ab19-4dba-9340-25d83bed99d3.json\n"
     ]
    },
    {
     "ename": "SystemExit",
     "evalue": "2",
     "output_type": "error",
     "traceback": [
      "An exception has occurred, use %tb to see the full traceback.\n",
      "\u001b[0;31mSystemExit\u001b[0m\u001b[0;31m:\u001b[0m 2\n"
     ]
    }
   ],
   "source": [
    "import os\n",
    "import argparse\n",
    "\n",
    "import torch\n",
    "from torch.utils.data import DataLoader\n",
    "from pytorch3d.datasets import R2N2, collate_batched_R2N2\n",
    "\n",
    "import pytorch_lightning as pl\n",
    "from pytorch_lightning.loggers import WandbLogger\n",
    "\n",
    "from autoencoder import AutoEncoder\n",
    "\n",
    "\n",
    "if __name__ == \"__main__\":\n",
    "    parser = argparse.ArgumentParser()\n",
    "    parser.add_argument('--gpus', default=1)\n",
    "    parser.add_argument('--data_dir', type=str, default='/home/data')\n",
    "    args = parser.parse_args()\n",
    "\n",
    "    synsets = ['cabinet']  # use one synset for easy prototyping\n",
    "    shapenet_path = os.path.join(args.data_dir, 'ShapeNet/ShapeNetCore.v1')\n",
    "    r2n2_path = os.path.join(args.data_dir, 'ShapeNet')\n",
    "    r2n2_splits = os.path.join(args.data_dir, 'ShapeNet/ShapeNetRendering/pix2mesh_splits_val05.json')\n",
    "\n",
    "    train_set = R2N2(\"train\", shapenet_path, r2n2_path, r2n2_splits, return_voxels=False)\n",
    "    val_set = R2N2(\"val\", shapenet_path, r2n2_path, r2n2_splits, return_voxels=False)\n",
    "\n",
    "    train_loader = DataLoader(train_set, batch_size=4, collate_fn=collate_batched_R2N2, num_workers=2)\n",
    "    val_loader = DataLoader(val_set, batch_size=4, collate_fn=collate_batched_R2N2, num_workers=2)\n",
    "\n",
    "    ae = AutoEncoder()  # TODO pass in whatever args are used in the constructor\n",
    "    wandb_logger = WandbLogger(name='test', project='3d-recon', entity='3drecon2')\n",
    "    trainer = pl.Trainer(gpus=args.gpus, logger=wandb_logger)\n",
    "    trainer.fit(ae, train_loader, val_loader)"
   ]
  },
  {
   "cell_type": "code",
   "execution_count": null,
   "id": "30cc6028",
   "metadata": {},
   "outputs": [],
   "source": []
  }
 ],
 "metadata": {
  "kernelspec": {
   "display_name": "Python 3",
   "language": "python",
   "name": "python3"
  },
  "language_info": {
   "codemirror_mode": {
    "name": "ipython",
    "version": 3
   },
   "file_extension": ".py",
   "mimetype": "text/x-python",
   "name": "python",
   "nbconvert_exporter": "python",
   "pygments_lexer": "ipython3",
   "version": "3.8.5"
  }
 },
 "nbformat": 4,
 "nbformat_minor": 5
}
