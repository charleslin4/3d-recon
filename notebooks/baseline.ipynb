{
 "cells": [
  {
   "cell_type": "code",
   "execution_count": 1,
<<<<<<< HEAD
   "id": "b55070f5",
   "metadata": {},
   "outputs": [
    {
     "name": "stdout",
     "output_type": "stream",
     "text": [
      "--2021-05-06 00:37:32--  https://raw.githubusercontent.com/facebookresearch/pytorch3d/master/pytorch3d/datasets/shapenet/shapenet_synset_dict_v1.json\n",
      "Resolving raw.githubusercontent.com (raw.githubusercontent.com)... 185.199.109.133, 185.199.110.133, 185.199.111.133, ...\n",
      "Connecting to raw.githubusercontent.com (raw.githubusercontent.com)|185.199.109.133|:443... connected.\n",
      "HTTP request sent, awaiting response... 200 OK\n",
      "Length: 1510 (1.5K) [text/plain]\n",
      "Saving to: ‘./data/ShapeNet/ShapeNetCore.v1/shapenet_synset_dict_v1.json.3’\n",
      "\n",
      "shapenet_synset_dic 100%[===================>]   1.47K  --.-KB/s    in 0s      \n",
      "\n",
      "2021-05-06 00:37:32 (5.27 MB/s) - ‘./data/ShapeNet/ShapeNetCore.v1/shapenet_synset_dict_v1.json.3’ saved [1510/1510]\n",
      "\n",
      "--2021-05-06 00:37:32--  https://raw.githubusercontent.com/facebookresearch/pytorch3d/master/pytorch3d/datasets/r2n2/r2n2_synset_dict.json\n",
      "Resolving raw.githubusercontent.com (raw.githubusercontent.com)... 185.199.110.133, 185.199.111.133, 185.199.108.133, ...\n",
      "Connecting to raw.githubusercontent.com (raw.githubusercontent.com)|185.199.110.133|:443... connected.\n",
      "HTTP request sent, awaiting response... 200 OK\n",
      "Length: 346 [text/plain]\n",
      "Saving to: ‘./data/ShapeNet/r2n2_synset_dict.json.2’\n",
      "\n",
      "r2n2_synset_dict.js 100%[===================>]     346  --.-KB/s    in 0s      \n",
      "\n",
      "2021-05-06 00:37:32 (4.46 MB/s) - ‘./data/ShapeNet/r2n2_synset_dict.json.2’ saved [346/346]\n",
      "\n"
     ]
    }
   ],
=======
   "id": "7f09e861",
   "metadata": {},
   "outputs": [],
   "source": [
    "%load_ext autoreload\n",
    "%autoreload 2"
   ]
  },
  {
   "cell_type": "code",
   "execution_count": null,
   "id": "2f4c06f4",
   "metadata": {},
   "outputs": [],
>>>>>>> 3c6ecd74b369193c4a149e1adddc0017e77ffa65
   "source": [
    "!wget https://raw.githubusercontent.com/facebookresearch/pytorch3d/master/pytorch3d/datasets/shapenet/shapenet_synset_dict_v1.json -P ./data/ShapeNet/ShapeNetCore.v1\n",
    "!wget https://raw.githubusercontent.com/facebookresearch/pytorch3d/master/pytorch3d/datasets/r2n2/r2n2_synset_dict.json -P ./data/ShapeNet/"
   ]
  },
  {
   "cell_type": "code",
   "execution_count": 1,
   "id": "8e07900e",
   "metadata": {},
   "outputs": [],
   "source": [
    "import os\n",
    "import sys\n",
    "sys.path.append(os.path.abspath('..'))\n",
    "\n",
    "import numpy as np\n",
    "import torch\n",
    "import pytorch3d\n",
    "\n",
    "from pytorch3d.datasets import (\n",
    "    R2N2,\n",
    "    ShapeNetCore,\n",
    "    collate_batched_meshes,\n",
    "    collate_batched_R2N2,\n",
    "    render_cubified_voxels,\n",
    ")\n",
    "from pytorch3d.renderer import (\n",
    "    OpenGLPerspectiveCameras,\n",
    "    PointLights,\n",
    "    RasterizationSettings,\n",
    "    TexturesVertex,\n",
    "    look_at_view_transform,\n",
    ")\n",
    "\n",
    "from pytorch3d.structures import Meshes, Pointclouds\n",
    "from torch.utils.data import DataLoader\n",
    "#from src.utils.plot_image_grid import image_grid\n",
    "\n",
    "#sys.path.insert(0, '../src')\n",
    "#from autoencoder import *"
   ]
  },
  {
   "cell_type": "code",
   "execution_count": 3,
   "id": "db7a1570",
   "metadata": {},
   "outputs": [
    {
     "ename": "FileNotFoundError",
     "evalue": "[Errno 2] No such file or directory: '/opt/anaconda3/lib/python3.8/site-packages/pytorch3d/datasets/shapenet/shapenet_synset_dict_v1.json'",
     "output_type": "error",
     "traceback": [
      "\u001b[0;31m---------------------------------------------------------------------------\u001b[0m",
      "\u001b[0;31mFileNotFoundError\u001b[0m                         Traceback (most recent call last)",
      "\u001b[0;32m<ipython-input-3-e3bffae56586>\u001b[0m in \u001b[0;36m<module>\u001b[0;34m\u001b[0m\n\u001b[1;32m      7\u001b[0m \u001b[0;31m#SHAPENET_PATH = \"/iris/u/clin/code/cs231n-project/data/ShapeNet/ShapeNetCore.v1/\"\u001b[0m\u001b[0;34m\u001b[0m\u001b[0;34m\u001b[0m\u001b[0;34m\u001b[0m\u001b[0m\n\u001b[1;32m      8\u001b[0m \u001b[0mSHAPENET_PATH\u001b[0m \u001b[0;34m=\u001b[0m \u001b[0;34m\"./data/ShapeNet/ShapeNetCore.v1/\"\u001b[0m\u001b[0;34m\u001b[0m\u001b[0;34m\u001b[0m\u001b[0m\n\u001b[0;32m----> 9\u001b[0;31m \u001b[0mshapenet_dataset\u001b[0m \u001b[0;34m=\u001b[0m \u001b[0mShapeNetCore\u001b[0m\u001b[0;34m(\u001b[0m\u001b[0mSHAPENET_PATH\u001b[0m\u001b[0;34m)\u001b[0m\u001b[0;34m\u001b[0m\u001b[0;34m\u001b[0m\u001b[0m\n\u001b[0m\u001b[1;32m     10\u001b[0m \u001b[0;31m#shapenet_dataset = ShapeNetCore(SHAPENET_PATH, synsets=['cabinet'])\u001b[0m\u001b[0;34m\u001b[0m\u001b[0;34m\u001b[0m\u001b[0;34m\u001b[0m\u001b[0m\n",
      "\u001b[0;32m/opt/anaconda3/lib/python3.8/site-packages/pytorch3d/datasets/shapenet/shapenet_core.py\u001b[0m in \u001b[0;36m__init__\u001b[0;34m(self, data_dir, synsets, version, load_textures, texture_resolution)\u001b[0m\n\u001b[1;32m     62\u001b[0m         \u001b[0;31m# Synset dictionary mapping synset offsets to corresponding labels.\u001b[0m\u001b[0;34m\u001b[0m\u001b[0;34m\u001b[0m\u001b[0;34m\u001b[0m\u001b[0m\n\u001b[1;32m     63\u001b[0m         \u001b[0mdict_file\u001b[0m \u001b[0;34m=\u001b[0m \u001b[0;34m\"shapenet_synset_dict_v%d.json\"\u001b[0m \u001b[0;34m%\u001b[0m \u001b[0mversion\u001b[0m\u001b[0;34m\u001b[0m\u001b[0;34m\u001b[0m\u001b[0m\n\u001b[0;32m---> 64\u001b[0;31m         \u001b[0;32mwith\u001b[0m \u001b[0mopen\u001b[0m\u001b[0;34m(\u001b[0m\u001b[0mpath\u001b[0m\u001b[0;34m.\u001b[0m\u001b[0mjoin\u001b[0m\u001b[0;34m(\u001b[0m\u001b[0mSYNSET_DICT_DIR\u001b[0m\u001b[0;34m,\u001b[0m \u001b[0mdict_file\u001b[0m\u001b[0;34m)\u001b[0m\u001b[0;34m,\u001b[0m \u001b[0;34m\"r\"\u001b[0m\u001b[0;34m)\u001b[0m \u001b[0;32mas\u001b[0m \u001b[0mread_dict\u001b[0m\u001b[0;34m:\u001b[0m\u001b[0;34m\u001b[0m\u001b[0;34m\u001b[0m\u001b[0m\n\u001b[0m\u001b[1;32m     65\u001b[0m             \u001b[0mself\u001b[0m\u001b[0;34m.\u001b[0m\u001b[0msynset_dict\u001b[0m \u001b[0;34m=\u001b[0m \u001b[0mjson\u001b[0m\u001b[0;34m.\u001b[0m\u001b[0mload\u001b[0m\u001b[0;34m(\u001b[0m\u001b[0mread_dict\u001b[0m\u001b[0;34m)\u001b[0m\u001b[0;34m\u001b[0m\u001b[0;34m\u001b[0m\u001b[0m\n\u001b[1;32m     66\u001b[0m         \u001b[0;31m# Inverse dicitonary mapping synset labels to corresponding offsets.\u001b[0m\u001b[0;34m\u001b[0m\u001b[0;34m\u001b[0m\u001b[0;34m\u001b[0m\u001b[0m\n",
      "\u001b[0;31mFileNotFoundError\u001b[0m: [Errno 2] No such file or directory: '/opt/anaconda3/lib/python3.8/site-packages/pytorch3d/datasets/shapenet/shapenet_synset_dict_v1.json'"
     ]
    }
   ],
   "source": [
    "if torch.cuda.is_available():\n",
    "    device = torch.device(\"cuda:0\")\n",
    "    torch.cuda.set_device(device)\n",
    "else:\n",
    "    device = torch.device(\"cpu\")\n",
    "    \n",
    "#SHAPENET_PATH = \"/iris/u/clin/code/cs231n-project/data/ShapeNet/ShapeNetCore.v1/\"\n",
    "SHAPENET_PATH = \"./data/ShapeNet/ShapeNetCore.v1/\"\n",
    "shapenet_dataset = ShapeNetCore(SHAPENET_PATH)\n",
    "#shapenet_dataset = ShapeNetCore(SHAPENET_PATH, synsets=['cabinet'])"
   ]
  },
  {
   "cell_type": "code",
   "execution_count": null,
<<<<<<< HEAD
   "id": "282445f3",
   "metadata": {},
   "outputs": [],
   "source": [
    "shapenet_dataset.synset_num_models"
   ]
  },
  {
   "cell_type": "code",
   "execution_count": null,
   "id": "c9b6d9c2",
   "metadata": {},
   "outputs": [],
   "source": [
    "R2N2_PATH = \"/iris/u/clin/code/cs231n-project/data/ShapeNet/\"\n",
    "SPLITS_PATH = \"/iris/u/clin/code/cs231n-project/data/ShapeNet/ShapeNetRendering/pix2mesh_splits_val05.json\"\n",
    "r2n2_dataset = R2N2(\"train\", SHAPENET_PATH, R2N2_PATH, SPLITS_PATH, return_voxels=False)"
   ]
  },
  {
   "cell_type": "code",
   "execution_count": null,
   "id": "296985b8",
   "metadata": {},
   "outputs": [],
   "source": [
    "r2n2_dataset.synset_num_models"
   ]
  },
  {
   "cell_type": "code",
   "execution_count": 25,
   "id": "2f4c06f4",
   "metadata": {},
   "outputs": [],
   "source": []
  },
  {
   "cell_type": "code",
   "execution_count": null,
   "id": "fbc589d9",
   "metadata": {},
   "outputs": [],
   "source": []
  },
  {
   "cell_type": "code",
   "execution_count": 26,
=======
>>>>>>> 3c6ecd74b369193c4a149e1adddc0017e77ffa65
   "id": "d604d9b2",
   "metadata": {},
   "outputs": [],
   "source": [
    "import os\n",
    "import argparse\n",
    "\n",
    "import torch\n",
    "from torch.utils.data import DataLoader\n",
    "from pytorch3d.datasets import R2N2, collate_batched_R2N2\n",
    "\n",
    "import pytorch_lightning as pl\n",
    "from pytorch_lightning.loggers import WandbLogger\n",
    "\n",
    "from autoencoder import AutoEncoder\n",
    "\n",
    "\n",
    "if __name__ == \"__main__\":\n",
    "    parser = argparse.ArgumentParser()\n",
    "    parser.add_argument('--gpus', default=1)\n",
    "    parser.add_argument('--data_dir', type=str, default='/home/data')\n",
    "    args = parser.parse_args()\n",
    "\n",
    "    synsets = ['cabinet']  # use one synset for easy prototyping\n",
    "    shapenet_path = os.path.join(args.data_dir, 'ShapeNet/ShapeNetCore.v1')\n",
    "    r2n2_path = os.path.join(args.data_dir, 'ShapeNet')\n",
    "    r2n2_splits = os.path.join(args.data_dir, 'ShapeNet/ShapeNetRendering/pix2mesh_splits_val05.json')\n",
    "\n",
    "    train_set = R2N2(\"train\", shapenet_path, r2n2_path, r2n2_splits, return_voxels=False)\n",
    "    val_set = R2N2(\"val\", shapenet_path, r2n2_path, r2n2_splits, return_voxels=False)\n",
    "\n",
    "    train_loader = DataLoader(train_set, batch_size=4, collate_fn=collate_batched_R2N2, num_workers=2)\n",
    "    val_loader = DataLoader(val_set, batch_size=4, collate_fn=collate_batched_R2N2, num_workers=2)\n",
    "\n",
    "    ae = AutoEncoder()  # TODO pass in whatever args are used in the constructor\n",
    "    wandb_logger = WandbLogger(name='test', project='3d-recon', entity='3drecon2')\n",
    "    trainer = pl.Trainer(gpus=args.gpus, logger=wandb_logger)\n",
    "    trainer.fit(ae, train_loader, val_loader)"
   ]
  },
  {
   "cell_type": "code",
   "execution_count": 2,
   "id": "30cc6028",
   "metadata": {},
   "outputs": [
    {
     "name": "stderr",
     "output_type": "stream",
     "text": [
      "/iris/u/clin/code/cs231n-project/env/lib/python3.8/site-packages/pytorch3d/datasets/r2n2/r2n2.py:127: UserWarning: ShapeNetVoxels not found in /iris/u/clin/code/cs231n-project/data/ShapeNet. Voxel coordinates will be skipped when returning models.\n",
      "  warnings.warn(msg)\n"
     ]
    },
    {
     "name": "stdout",
     "output_type": "stream",
     "text": [
      " category    #instances\n",
      "-----------  ------------\n",
      "   sofa      57878\n",
      "  cabinet    28675\n",
      "   bench     33120\n",
      "   chair     123576\n",
      "  display    19992\n",
      "   rifle     43286\n",
      "loudspeaker  29472\n",
      "   lamp      42278\n",
      " telephone   19171\n",
      " airplane    73800\n",
      "   table     155020\n",
      "    car      136747\n",
      "watercraft   35342\n",
      "   total     798357\n"
     ]
    },
    {
     "name": "stderr",
     "output_type": "stream",
     "text": [
      "/iris/u/clin/code/cs231n-project/env/lib/python3.8/site-packages/pytorch3d/io/mtl_io.py:96: UserWarning: Texture UV coordinates outside the range [0, 1].                 The integer part will be ignored to form a repeating pattern.\n",
      "  warnings.warn(msg)\n"
     ]
    }
   ],
   "source": [
    "import sys\n",
    "sys.path.insert(0, '../src')\n",
    "\n",
    "import torch\n",
    "import torch.nn as nn\n",
    "from torch.utils.data import DataLoader\n",
    "import torchvision\n",
    "from torchvision.models.detection.backbone_utils import resnet_fpn_backbone\n",
    "import pytorch_lightning as pl\n",
    "\n",
    "from pytorch3d.datasets import BlenderCamera, R2N2, collate_batched_R2N2\n",
    "from pytorch3d.structures import Pointclouds\n",
    "from pytorch3d.ops import sample_points_from_meshes, vert_align\n",
    "from pytorch3d.utils import ico_sphere\n",
    "from pytorch3d.renderer import (\n",
    "    FoVOrthographicCameras,\n",
    "    PointsRasterizationSettings,\n",
    "    PointsRasterizer,\n",
    "    PointsRenderer,\n",
    "    PointLights,\n",
    "    PulsarPointsRenderer,\n",
    "    AlphaCompositor,\n",
    "    NormWeightedCompositor,\n",
    "    SoftSilhouetteShader\n",
    ")\n",
    "\n",
    "import numpy as np\n",
    "\n",
    "from autoencoder import Encoder, Decoder\n",
    "\n",
    "DEVICE = 'cuda' if torch.cuda.is_available() else 'cpu'\n",
    "\n",
    "shapenet_path = '/iris/u/clin/code/cs231n-project/data/ShapeNet/ShapeNetCore.v1'\n",
    "r2n2_path = '/iris/u/clin/code/cs231n-project/data/ShapeNet'\n",
    "r2n2_splits = '/iris/u/clin/code/cs231n-project/data/ShapeNet/ShapeNetRendering/pix2mesh_splits_val05.json'\n",
    "\n",
    "train_set = R2N2(\"train\", shapenet_path, r2n2_path, r2n2_splits, return_voxels=False)\n",
    "train_loader = DataLoader(train_set, batch_size=1, collate_fn=collate_batched_R2N2, num_workers=2)\n",
    "\n",
    "batch = next(iter(train_loader))\n"
   ]
  },
  {
   "cell_type": "code",
   "execution_count": 3,
   "id": "f7dae928",
   "metadata": {},
   "outputs": [],
   "source": [
    "def render_points(point_clouds, R, T, K):\n",
    "    camera = BlenderCamera(device=DEVICE, R=R, T=T, K=K)\n",
    "    rasterizer = PointsRasterizer(\n",
    "        cameras=camera, \n",
    "        raster_settings=PointsRasterizationSettings(\n",
    "            image_size=137,\n",
    "            radius = 0.003,\n",
    "            points_per_pixel=50,\n",
    "        )\n",
    "    )\n",
    "    renderer = PointsRenderer(\n",
    "        rasterizer=rasterizer,\n",
    "        compositor=AlphaCompositor()\n",
    "    )\n",
    "    \n",
    "\n",
    "    # point_clouds = point_clouds.extend(2)\n",
    "    # target_images = renderer(point_clouds, cameras=camera, lights=PointLights()).permute(0, 3, 1, 2)  # (N, C, H, W)\n",
    "    \n",
    "    images = renderer(point_clouds, cameras=camera, lights=PointLights()).permute(0, 3, 1, 2)\n",
    "    \n",
    "    return images\n",
    "\n",
    "\n",
    "encoder = Encoder().to(DEVICE)\n",
    "decoder = Decoder().to(DEVICE)\n",
    "\n",
    "\n",
    "images = batch['images'].to(DEVICE)\n",
    "batch_size, n_views = images.shape[0], images.shape[1]\n",
    "idx = np.asarray([np.random.choice(n_views, 2, replace=False) for i in range(batch_size)])\n",
    "input_idx, support_idx = idx[:, 0], idx[:, 1]\n",
    "input_images = images[range(batch_size), input_idx].permute(0, 3, 1, 2)      # (N, C, H, W)\n",
    "support_images = images[range(batch_size), support_idx].permute(0, 3, 1, 2)  # (N, C, H, W)\n",
    "\n",
    "z = encoder(input_images)\n",
    "point_clouds = decoder(z)\n",
    "# points, textures = self.decoder(z)\n",
    "\n",
    "R, T, K = batch['R'], batch['T'], batch['K']\n",
    "out_images = render_points(\n",
    "    point_clouds,\n",
    "    R[range(batch_size), input_idx],\n",
    "    T[range(batch_size), input_idx],\n",
    "    K[range(batch_size), input_idx]\n",
    ")"
   ]
  },
  {
   "cell_type": "code",
   "execution_count": 4,
   "id": "4e9c7598",
   "metadata": {},
   "outputs": [
    {
     "data": {
      "text/plain": [
       "torch.Size([1, 1, 137, 137])"
      ]
     },
     "execution_count": 4,
     "metadata": {},
     "output_type": "execute_result"
    }
   ],
   "source": [
    "out_images.shape"
   ]
  },
  {
   "cell_type": "code",
   "execution_count": 6,
   "id": "c9d6a9f0",
   "metadata": {},
   "outputs": [
    {
     "data": {
      "text/plain": [
       "tensor([[[[0., 0., 0.,  ..., 0., 0., 0.],\n",
       "          [0., 0., 0.,  ..., 0., 0., 0.],\n",
       "          [0., 0., 0.,  ..., 0., 0., 0.],\n",
       "          ...,\n",
       "          [0., 0., 0.,  ..., 0., 0., 0.],\n",
       "          [0., 0., 0.,  ..., 0., 0., 0.],\n",
       "          [0., 0., 0.,  ..., 0., 0., 0.]]]], device='cuda:0',\n",
       "       grad_fn=<PermuteBackward>)"
      ]
     },
     "execution_count": 6,
     "metadata": {},
     "output_type": "execute_result"
    }
   ],
   "source": [
    "out_images"
   ]
  },
  {
   "cell_type": "code",
   "execution_count": 5,
   "id": "53cc30cb",
   "metadata": {},
   "outputs": [
    {
     "data": {
      "text/plain": [
       "<matplotlib.image.AxesImage at 0x7f2591846bb0>"
      ]
     },
     "execution_count": 5,
     "metadata": {},
     "output_type": "execute_result"
    },
    {
     "data": {
      "image/png": "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\n",
      "text/plain": [
       "<Figure size 720x720 with 1 Axes>"
      ]
     },
     "metadata": {
      "needs_background": "light"
     },
     "output_type": "display_data"
    }
   ],
   "source": [
    "import matplotlib.pyplot as plt\n",
    "\n",
    "plt.figure(figsize=(10, 10))\n",
    "plt.imshow(out_images[0].permute(1, 2, 0).detach().cpu().numpy())\n"
   ]
  },
  {
   "cell_type": "code",
   "execution_count": 24,
   "id": "2cd2bc33",
   "metadata": {},
   "outputs": [
    {
     "data": {
      "text/plain": [
       "tensor(0.0568, device='cuda:0')"
      ]
     },
     "execution_count": 24,
     "metadata": {},
     "output_type": "execute_result"
    }
   ],
   "source": [
    "point_clouds._points_list[0].detach().max()"
   ]
  },
  {
   "cell_type": "code",
   "execution_count": 13,
   "id": "39196ac0",
   "metadata": {},
   "outputs": [
    {
     "name": "stdout",
     "output_type": "stream",
     "text": [
      "tensor([[[0., 1., 0.],\n",
      "         [0., 1., 0.],\n",
      "         [0., 1., 0.],\n",
      "         ...,\n",
      "         [0., 1., 0.],\n",
      "         [0., 1., 0.],\n",
      "         [0., 1., 0.]],\n",
      "\n",
      "        [[0., 1., 0.],\n",
      "         [0., 1., 0.],\n",
      "         [0., 1., 0.],\n",
      "         ...,\n",
      "         [0., 1., 0.],\n",
      "         [0., 1., 0.],\n",
      "         [0., 1., 0.]],\n",
      "\n",
      "        [[0., 1., 0.],\n",
      "         [0., 1., 0.],\n",
      "         [0., 1., 0.],\n",
      "         ...,\n",
      "         [0., 1., 0.],\n",
      "         [0., 1., 0.],\n",
      "         [0., 1., 0.]],\n",
      "\n",
      "        ...,\n",
      "\n",
      "        [[0., 1., 0.],\n",
      "         [0., 1., 0.],\n",
      "         [0., 1., 0.],\n",
      "         ...,\n",
      "         [0., 1., 0.],\n",
      "         [0., 1., 0.],\n",
      "         [0., 1., 0.]],\n",
      "\n",
      "        [[0., 1., 0.],\n",
      "         [0., 1., 0.],\n",
      "         [0., 1., 0.],\n",
      "         ...,\n",
      "         [0., 1., 0.],\n",
      "         [0., 1., 0.],\n",
      "         [0., 1., 0.]],\n",
      "\n",
      "        [[0., 1., 0.],\n",
      "         [0., 1., 0.],\n",
      "         [0., 1., 0.],\n",
      "         ...,\n",
      "         [0., 1., 0.],\n",
      "         [0., 1., 0.],\n",
      "         [0., 1., 0.]]], device='cuda:0', grad_fn=<SelectBackward>)\n"
     ]
    }
   ],
   "source": [
    "print(out_images[0])"
   ]
  },
  {
   "cell_type": "code",
   "execution_count": 32,
   "id": "f37eea9d",
   "metadata": {},
   "outputs": [
    {
     "name": "stdout",
     "output_type": "stream",
     "text": [
      "tensor([[0., 0., 0.,  ..., 0., 0., 0.],\n",
      "        [0., 0., 0.,  ..., 0., 0., 0.],\n",
      "        [0., 0., 0.,  ..., 0., 0., 0.],\n",
      "        ...,\n",
      "        [0., 0., 0.,  ..., 0., 0., 0.],\n",
      "        [0., 0., 0.,  ..., 0., 0., 0.],\n",
      "        [0., 0., 0.,  ..., 0., 0., 0.]], device='cuda:0')\n"
     ]
    }
   ],
   "source": [
    "im = out_images[0].permute(1, 2, 0)\n",
    "print((im != 0).any(2).float())"
   ]
  },
  {
   "cell_type": "code",
   "execution_count": 15,
   "id": "3d3814c7",
   "metadata": {},
   "outputs": [
    {
     "data": {
      "text/plain": [
       "<matplotlib.image.AxesImage at 0x7fdb69764a90>"
      ]
     },
     "execution_count": 15,
     "metadata": {},
     "output_type": "execute_result"
    },
    {
     "data": {
      "image/png": "iVBORw0KGgoAAAANSUhEUgAAAkcAAAJBCAYAAABMGhHqAAAAOXRFWHRTb2Z0d2FyZQBNYXRwbG90bGliIHZlcnNpb24zLjQuMSwgaHR0cHM6Ly9tYXRwbG90bGliLm9yZy/Z1A+gAAAACXBIWXMAAAsTAAALEwEAmpwYAAA4C0lEQVR4nO3debStd1kn+Od353nKPGESjdKIE5WicahelFQv0aLA1WVjtFQK0ECJCqgFCahMpY1DK2oJVloocRVLoJBqWa62qmhKl3aVoEQUIQkSCSEJme8833POr/84W/L7PfvmvNlnn+nefD5rsbjPft/97ne/e5+b5+79Pc+v1FoDAIB561b7BAAA1hLNEQBAQ3MEANDQHAEANDRHAAANzREAQGPZmqNSynNLKZ8ppdxZSrlpuR4HAGApleWYc1RKWR8RfxsR/2tE3BsRfxER31NrvW3JHwwAYAltWKbjPjMi7qy1fi4iopTy3oh4QUSctTkqpZhECQCstEdqrRflG5fra7UrIuKepr53dBsAwFpx99luXK5PjgaVUm6MiBtX6/EBAM5muZqj+yLiqqa+cnTbl9Rab4mIWyJ8rQYArB3L9bXaX0TEdaWUa0opmyLihoj40DI9FgDAklmWT45qrTOllB+JiP8SEesj4l211k8vx2MBACylZflV/olPwtdqAMDKu7XWen2+0YRsAICG5ggAoKE5AgBoaI4AABqaIwCAhuYIAKChOQIAaGiOAAAamiMAgIbmCACgoTkCAGhojgAAGpojAICG5ggAoKE5AgBoaI4AABqaIwCAhuYIAKChOQIAaGiOAAAamiMAgIbmCACgoTkCAGhojgAAGpojAICG5ggAoKE5AgBoaI4AABqaIwCAhuYIAKChOQIAaGiOAAAamiMAgIbmCACgoTkCAGhojgAAGpojAICG5ggAoKE5AgBoaI4AABqaIwCAhuYIAKChOQIAaGiOAAAamiMAgIbmCACgoTkCAGhojgAAGpojAICG5ggAoKE5AgBoaI4AABqaIwCAhuYIAKChOQIAaGiOAAAamiMAgIbmCACgoTkCAGhojgAAGpojAICG5ggAoKE5AgBoaI4AABqaIwCAhuYIAKChOQIAaGiOAAAamiMAgIbmCACgoTkCAGgsujkqpVxVSvmjUsptpZRPl1JeObp9Xynlw6WUz47+f+/SnS4AwPKa5pOjmYj4iVrr0yLiWRHxilLK0yLipoj4SK31uoj4yKgGADgnLLo5qrXeX2v9y9Gfj0TE7RFxRUS8ICLePdrt3RHxnVOeIwDAilmSzFEp5eqI+IaI+FhEXFJrvX+06YGIuGQpHgMAYCVsmPYApZQdEfF7EfGqWuvhUsqXttVaaymlPs79boyIG6d9fACApTTVJ0ellI0x3xi9p9b6wdHND5ZSLhttvywiHjrbfWutt9Rar6+1Xj/NOQAALKVpflutRMQ7I+L2WusvN5s+FBEvGv35RRHx+4s/PQCAlVVqPeu3XsN3LOVbIuJPI+JvImJudPPrYj539P6IeEpE3B0RL6y17h841uJOAgBg8W492zdYi26OlpLmCABYBWdtjkzIBgBoaI4AABqaIwCAhuYIAKChOQIAaGiOAAAamiMAgIbmCACgoTkCAGhojgAAGpojAICG5ggAoKE5AgBoaI4AABqaIwCAhuYIAKChOQIAaGiOAAAamiMAgIbmCACgoTkCAGhojgAAGpojAICG5ggAoKE5AgBoaI4AABqaIwCAhuYIAKChOQIAaGiOAAAamiMAgIbmCACgoTkCAGhojgAAGpojAICG5ggAoKE5AgBoaI4AABqaIwCAhuYIAKChOQIAaGiOAAAamiMAgIbmCACgoTkCAGhojgAAGpojAICG5ggAoKE5AgBoaI4AABqaIwCAhuYIAKChOQIAaGiOAAAamiMAgIbmCACgoTkCAGhojgAAGpojAICG5ggAoKE5AgBoaI4AABqaIwCAhuYIAKChOQIAaGiOAAAamiMAgIbmCACgoTkCAGhojgAAGlM3R6WU9aWUT5RS/mBUX1NK+Vgp5c5SyvtKKZumP00AgJWxFJ8cvTIibm/qn4+IX6m1fkVEHIiIly7BYwAArIgN09y5lHJlRPzTiPjZiPjxUkqJiG+NiO8d7fLuiHhjRLxjmscBngT+zU/19UUX9vXLXrVipwI8uU37ydHbIuI1ETE3qi+IiIO11plRfW9EXDHlYwAArJhFN0ellOdFxEO11lsXef8bSykfL6V8fLHnAACw1Kb5Wu2bI+L5pZTviIgtEbErIn41IvaUUjaMPj26MiLuO9uda623RMQtERGllDrFeQAALJlS6/R9SSnl2RHxk7XW55VS/mNE/F6t9b2llN+MiE/WWt8+cH/NEax1v/FLfb1lS1/P5R/jVM/Npe0l7T7hXwN5/3/16snuDxBxa631+nzjcsw5em3Mh7PvjPkM0juX4TEAAJbFVL+t9vdqrX8cEX88+vPnIuKZS3FcAICVZkI2AEBjSTJHU5+EzBFM7zff1tcb0wfDJWV81qV/G439FKYbhv6uyNvz4+U67z92/Hy+A/dfv76vX/Tys54mQGPFMkcAAOcszREAQENzBADQWJLfVoPzRs7t7NzR10eP9fWhQ339mp/p65d+f1//o2/q66EczlBup7tvqvOuC933iZzLkKHjDxnKIOV6Ns1NOn16uscHGPHJEQBAQ3MEANDQHAEANGSOOKfllMvGVA+mUN54c18fS5mizZv7evu2vp6b7et/97a+zuuPDeVy8qyebKH7p23r0hyjbalel/bPK5+dSfVsCjXN5gxQWlut5rXUcj07u/D2oTpHoo4fD4Cl4JMjAICG5ggAoKE5AgBoyByxtt306r7+yuu68sb/9ktdvXnLpq7+g3/wg139uc1b++M9+FBfnzzZ10eP9PXOnX29I81ByvdPOZzY3KeiLtvQ/wheurHffvnWPuO0Z8tjGajN6/v7zqQM0OEzfeLqwKm+fvj0qX77zExXH0r1TM5XpTlDgxmjfC1qzhAtnGGaeG03gEXyyREAQENzBADQ0BwBADRkjljbtqaMUJplc/dVz+nqjXP9dJ5Hcv9fUr2xzyjFgQMLb9+U6m1p7lGaa7QuzfL5xvT43/HUp3X1nu3bu3ou5W4On3js+d9/5HC37d7Dff2FdK3uTxmj/encTo1lfgYyQdPWQ5mioRpgmfjkCACgoTkCAGhojgAAGjJHrG15/a0T/RyhP7vm6f3mg4e6+vSxE129Lq1dtmFDX59O64+NrdeV5hTFxoXruTTH6L+f7M9n6x23d3VN938wzSq6v5k99OhAJmhsFbZJ5wQteYZoiTNMmUwSsER8cgQA0NAcAQA0NEcAAA2ZI9a2kpIzJ/rMzrE9u7t646WXdPWGR/d39czx/v55PbJImaSxHMvRlEHKc5Dy/dfnuUp9puj/PdEfb93x/vG25eM1tqR6Np1rSvjE3FLPKVruOUYyR8Aq8ckRAEBDcwQA0NAcAQA0ZI5Y27amZM2pfu7P7NGjXT23oc8gxba0NlvKIM3t3Lnw46WMUqS5Q3Gkf/yxuUdbNvd1Hj6UMkU5F3Qi1euaOmeKxiI6UdP2Vc4cxdD98+4TPt5sviIAi+OTIwCAhuYIAKChOQIAaMgcsbZt29bXaa21euZMX59OmaDNKfOTQz/HjvV1ziBlOYOU5i7FkfQjldZWi00pkzQwm2c2rfU21z7/fC4p71TXpee60pmjieu+HMtn5ZlXG9O1za/1r/1CX6e8WbzprQFwNj45AgBoaI4AABqaIwCAhswRa9tDD3dlyXODjvVrk9VUx5WX9/VFF/b1wYN9nTNEu3YtfH4593PkSF+nOUZl395+e8ok1ZSpyrmc2u6/Oa3rdjTlp8ZmLE2ZQRpaKy1nnPLj5fxVSf82y+vQ5f2zlMcae7w84yof/+fe0Neve9PCjwc8afjkCACgoTkCAGj4Wo21ba5fEqLOLPy1U5w42dcPPdLX+Wu2PWm5kYcf7esNpxbeP//6ef5a7uChfvf0NduG9DXbhvTr+KfyqILmepS01EnJS5GMfcWXftyHvpZa1x8vNg3snx5/bHuuJzXp14D58fJXpPl65F/9f+DBvv65/3P4HIHzgk+OAAAamiMAgIbmCACgIXPE2rap/3X1kn8dOy0hMbYYR84AHTjY1xfs649/0QVdvedwn9s5kJcn2bunr2ufkYqTKQO1v1/CYjY9nx37+vPZk5bEeOTUYxmomZS/Wpeu1abdfT7q9NCv+ufM0LSGMkHLbSiDtHNHX59M+bJLL+nrn0+/6v/aNAoAOG/45AgAoKE5AgBoaI4AABqlrnQO4GwnUcrqnwTnhjfe3NdDS2KkOUlj9SUX94fbubOr9830c4b2P9pnhuqufv+x0NMjaW7S7Exf55zQpZd29VPSXKUtzWyiO471GaKZ/NzSzKTtafuxvPRJXo4kz0FaA39XLKmhuUv5euZMUrr+8er03gTOBbfWWq/PN/rkCACgoTkCAGhojgAAGuYccW5JOZGyIc05SmuRjeVmco7kUFr7LOV0Hp1La7ml7XEorV+2b09fX9jPTRrLIKW5Sacf7teC27+hnz30lc0cpH92cT+H5+DJPkP0uTTj6X/a05/bXXP9uXwmz2TKc5CG8l3nmqE5SPm9s21r2j8d7x2/3Nf7D/T1698y0ekBq8cnRwAADc0RAEBDcwQA0JA54twyNMdoSMooxemUUTqcM0R7+zrNQRrLEOW123LmaCiDdPx4V+5/4MGuPrLpsRzQs3bt6bZtSWun/W16bncdOpy2p7k9OXOUMzh5DtL5nkHK8vPNGaT8Xkrr9sWv/UJf/9hrnvi5ASvKJ0cAAA3NEQBAQ3MEANCwthrnljfe1JVlfZpzNJvmEg3J7/9c792T6pRBqinz9OBDfZ3nIuUM04mU83mkn3MUM+n5NOeze6Zfp+3QqZQhGspL5QxNvv+pfgZTbNnS1xtTfut8yyANmXRttjNpXb004yr+1aunPydgUtZWAwAYojkCAGhojgAAGuYccY4pC5aTH27gAGnu0FjuZueOvr74or7Oc4yOHO3r3bv6ei7NxklrrcXJx3JBh86kzMpsyrgc79dWi3X9Om2xfVtfbx5YSy2vWxcpU5TzVed7BmnStdmG1qr7rX/b10fSzK1X3zzZ+QGL5pMjAICG5ggAoKE5AgBoyBxxbkmzY+rM4+y3WDkHkmfRpPXJxtZq25oySXkttf0H+vpYvx7aWIbpZJo91K6HljM+Z1LGKK+Vls81Z2LyuW8aWEvtWMpjbU4zmbamtceebBmkIXmtujS3KnalPNr/9et9/UM/OtnjAU+YT44AABpTNUellD2llA+UUu4opdxeSvnGUsq+UsqHSymfHf3/3uEjAQCsDdN+cvSrEfGfa61PjYivi4jbI+KmiPhIrfW6iPjIqAYAOCcsem21UsruiPiriLi2NgcppXwmIp5da72/lHJZRPxxrfWrBo51noUPWDY//ZquLCm3UefSWymvbzWtPBYp50Ly3KKc28mzhw6kDNKePX2dZ+O0mac8gymv05blTNH27Wl7ygjlTEzODOWMTF6bLWeiNqU6X8zzLYM0ZGzE1sDMrbxuYF5376WvmPaM4MloyddWuyYiHo6If19K+UQp5bdKKdsj4pJa6/2jfR6IiEumeAwAgBU1TXO0ISKeERHvqLV+Q0Qci/QV2ugTpbP+c7CUcmMp5eOllI9PcQ4AAEtqmubo3oi4t9b6sVH9gZhvlh4cfZ0Wo/9/6Gx3rrXeUmu9/mwfZwEArJZFzzmqtT5QSrmnlPJVtdbPRMRzIuK20f9eFBFvHf3/7y/JmULE2Nyhun794+y4THIu5miaU5QzRnm20LaU68m5nUOH0v3TWmt79zz255xBOZHyTCX92+dUmtm0Pp3b0BykjQP7D63FljMyQ/c/3zNI+emNRS/T9Ri6Xr/9m4/9+Whaw+9HfnLSs4MntWmHQP5oRLynlLIpIj4XES+O+U+j3l9KeWlE3B0RL5zyMQAAVsxUzVGt9a8i4mxfiz1nmuMCAKwWE7IBABqLnnO0pCdhzhGLVN7yU+mGPodRc6ZnqeWfnzxL6IKUGdqStufcyJEjfZ1nF+1tBs6vT/+2eejhdKyUO8nyY+cZTXkOUp5TlPNe+Xh5xlTOSOVMU67z8bI18HfXisrXY6Hrna9N3vf7b1y684Jz25LPOQIAOO9ojgAAGpojAIDGtL/KD6uqDuVYllvOcpxM64vl3E+eVZPXH9uxo69zrKadg7Rvb7/togv7Os81SjOiBmc25XPdkDJGQ9d6KEOUM0l5rbicaRrKa53vGaSx57dArijn0fKag7/z7/r6B1421anB+cYnRwAADc0RAEBDcwQA0JA54tw2NAtnxeUcT8oc5bXXdu3s65zT2ZkySI/uf+zPhw53m0q77lpE1Esu6u97/wN9ndc6yzOhxvJSA5mjnFEaMpQpyo+fIzd5ptSTLoO0wA0pzhXr8oykdO3f81t9fSzlz2585YQnB+c2nxwBADQ0RwAADc0RAEBD5ohz2rcceair79h9cVc/spInExERKdsxm8IfKSc0tl7Ztm3pcOl47WyjduZRRNTD/bpsZc/u/r6XXdrvP5RBynORcgZoffrrI2eIhuYg5UxQzizltd5yfistO/ekn4PUys91NtX5tcn753X13vuuvr7hJYs/NzgH+OQIAKChOQIAaGiOAAAapa6B7+FLKat/EpyTXvbCPmdy11f3a0R9cUOfnfjUmXyEFX7r5Z+3bVv7+uI0myjPRWrvn9cmO9hnkGLL5q5cl2Yq1bSWWv1iyiDldetyhmdHyqXs7dd6K+nx8/1rPv98bdL6YPlviZozSDmztDk9frYG/u5bUpOM/MpPPb+2OT82dv90gO996QQPDmvKrbXW6/ONPjkCAGhojgAAGpojAICGzBHntFc8v6+3X7Snq+uer+3qX9zxTf0dhua9rLQ0m6hcsK/f3pzv2M9uzgi167BFRElzg9alWTZzaU5S/eL96eTS4+Wcyq7++Hmtt/U5A5TuPpPnLKXnV1IOpqTHnxubw5RyM5tTfiub9LVfa8v6TWMog5R+TvK1H8uTnTjRb3/xD09xcrCsZI4AAIZojgAAGpojAICGtdU4px1Oo3K2zfVrl100+yddvWPuWV2dUirjWYtll8Ieae21urFfe219k+PJMZG5nLHZuaM/Vs4Upf03pDlIM8eP9/sfONgfP2d08vFTTqXu6+cgbU0znOrGfv9jZ/qhVDVlqtaluUYb8/nnOU55rbg8Q2rstX8SRSHH3vYL59nya5szSGVrP3+s/sff6Y/3v//ApGcIK8onRwAADc0RAEBDcwQA0DDniPPKv35x3+/v292Hku4489yufvcFX9cfIOd2VvrnIz/epj5zVC65+LFNaU7RmZQLSXGsWHfyZL891Rt29zOWNmzsMz2n7n+wP9WDB9MjLDwbJ1LmaHuqd6c5SGfS2muPpMxQ/rtrfXrt1qUczGyavTOXM0Yp3zXOX1NfMjAXqaQ8WH4t5tIB6ne/eMlODSZkzhEAwBDNEQBAQ3MEANCQOeK8lmMlY2/317yyr7du7evVXnstP15zfpsuu6TftKWfLXM0zwlKz2VjyhyVUynTk+YG5UzPifsf6PcfyiBtSGujXXRRV1+c1pW7IGWQTsz1maq7T6QMVV6LLT3fLen8z6TnP5Nf2o1DY+D8tfUlQxmk9f1rsa6kOr82acZWvOjlU53e1H79FxfePrAWXaxL21/+6unPiaUicwQAMERzBADQ0BwBADRkjqD1M6/t65wlWPG115L25zVldPY2M5AiIrakuT33nzrVbz/Z1ztScOTRMzP99mZdt7M58sX7+xsOHUp7pGu3pc8Ubbjwwq6+Jj2/i1MeLGeq/vpYv5ZazmutTzmQnWkWz4l0fU6lOUuxQQZp0dKlyRmj/NrUlNGZSXm6eP4Nkz3+296aTmDgc4GUj4t1uZ7w74XZPHVswMtfNdn+TEPmCABgiOYIAKChOQIAaMgcQesVP9TXF+7r65w9WPGfn+bx8qyYdK5XpDlCeQ7QfYcPd3VOTZQ0B6hu2tTVe/f2a6PNpYzOwXvv6w945GgsaGufK9l6cX/+X7O3f36XprXlHjrRz8b5aHp+2caUO9mbMlqH01puJ9PadWO5lbHcib/Wnrj+2m1Mr8XG9N46nmdq5Z/LIesHXrv8cz1W5wMObB87/oQZpJe9arL9mYTMEQDAEM0RAEBDcwQA0JA5goXclNZASut9reraa/mxUo5i22WXdfW1F17Q1SdTpubOtJ7VRem5Hsw5j7T9wt39XKKTJ0509YHPf6G//0w/R2nMtn6u0b40x+n6lKm6dPuOrv7M/v1d/bGjR/rjp9fuwpRzeWrKNP1NyjAdSnOgxnIs53XmaMp5X3mGVJ4DlPJdeazQ3NzC7/0lzxANbh46XpIv39Dcpfx8XvKKgQdgAjJHAABDNEcAAA3NEQBAY2ixIHhye+uv9HVee21sXskKrr2Wcwgpt3H80Ue7+tGUEbo2rZV2NOVAHkj13l27uvrwo32m53BaL+vCnTv7073qiq7ef0+ag5QzSMf7zNL+Bx/u6k+n2TYXbO7nJH3nVz21q7/m0Ue6+r60FtuXpfM9fKqf83Rn2v9QPt+co8lBmTVt4FzHMjrpuY5di7R/XqtsKJuX9h+bCjT2z/oJQz5jQ72mO9z48Ses8/3HQ1YDJ8RS88kRAEBDcwQA0NAcAQA0ZI5gEofTrJzdfQ5nLCuwknOPco7hRJ+Zuf+BB7p6b1or7at39s+lHj7U1Q+m55IzRY8c6ucAbU4ZpL1pDlK+Mgfuube/YSatZZbmMN2Xns8d6fnktdeOpLXi7k7P785DB7v6s2fOxEJKen5jM+OGXvsljyQtcMChc8t3zRmXXI+tHZb+nb1xIGMz6VyhqY2d8MJ1/thg4gzR0OkMvB45s5Wv/zt/o69fau7RUvPJEQBAQ3MEANDQHAEANGSOYBJve3tf3/wTfb2pX59rVddeyzmIY31m57aHHurqC7f2a5l904UXdvX/eKSfE7RtR5/p2ZvWJvvsoT7TsylldC5Lc5ZyZudgnoOU1tvKz+cTDz3Y1XfP9Jmh/QPXfl26Xrkeeu3Kxv6v07mcmRrM7UybW2mOn9cqm0vnkm1I/ynI55Jeu6nPdWhO0PABF77/UCYoZwNzZmpSgxmi/Hrk7QPvlfx6sux8cgQA0NAcAQA0NEcAAI0yNptjNU6ilNU/CVgKb7ipryfNZiyrnPvo/220/ZKLu/q5117b1afS3J8/SGuVXb2lX9vsTMoEfTHNKbr2oj7TtGlLn3m65+F+LbWj936xq8fW99q5oyvLBfv67SlXM/UrkzNK6fg5JTI3liOZnazOuZ+F/u5e6rk8q20sM5T+Xb/cGaKxvNjA9sHXdmD/fPzZtHbdj74mWDK31lqvzzf65AgAoKE5AgBoaI4AABrmHMFSOnGir9PsoFWde5RTNikncSzNPbo1ZYj+8dVXd/XzUobpDx59tKsv3NyvdXZxujZ/t/9AV3/b7n7tsxtO/V1X3zZ3rKvfVy7o6pxLKcudq0nXb32q85ykmZQrmTt9uj/e2CyggfPP76Vpnu9yX6uBOUMlPZd1KTNU0v41ct3LWdrBde/G5hBNmBGauJ4wczSTMkcsO58cAQA0NEcAAA3NEQBAQ+YIltIv/Gpfv/4n+3pjXsNqDa29lnIQn3+wX6vstm3buvpbUgZpNq0X9YcH+0zRP7r88q7emI7/lbd9pKuv2dZnmK698Mr+fB/pt7+v9nOO8pyhSf8lWHMOJec+Uj2X1pbLq5mNrY41lBlazhzQpMfOu6f37fr0XHammUxb1vfbN6T7z6Xjn04/BqfSz8WpNONqZmytsqXOCE2ZIcrvnbGMUV+OXW+TAFecT44AABpTNUellFeXUj5dSvlUKeV3SylbSinXlFI+Vkq5s5TyvlLKpuEjAQCsDYtujkopV0TEj0XE9bXWp0fE+oi4ISJ+PiJ+pdb6FRFxICJeuhQnCgCwEqbNHG2IiK2llDMRsS0i7o+Ib42I7x1tf3dEvDEi3jHl48C56Wd/qa/fmNZeWwNrG35JzqEc7+cSfezuu7v6kpRBetpFF3X1XceOdvVtx/s5RU9J+3/+0DVdfdVDf93VX/OUf9jV/3xLf7zZ/f1abx+Y3dPVY1c65VTq0KyZfH3SWmpnclBkLNYztH1CS5lJSpmgi9Nzu2Rj/wXAvk19vWXDwv8pOZEyQIdTBudAqo+nOUMn02uTZ0aNvXbTZoSGMkNjGaJ0vPzapJlfsWtnX6e8WqxL6+itl4BZaYu+4rXW+yLilyLiCzHfFB2KiFsj4mCt9e/fOfdGxBXTniQAwEqZ5mu1vRHxgoi4JiIuj4jtEfHcCe5/Yynl46WUjy/2HAAAlto0X6v9k4i4q9b6cEREKeWDEfHNEbGnlLJh9OnRlRFx39nuXGu9JSJuGd13DX23AAA8mU3THH0hIp5VStkWESci4jkR8fGI+KOI+K6IeG9EvCgifn/ak4TzxkzKMmxI2YLVnHuU5dzE0T7j86Ev9BmkH9zRzxn6377iuq7+4J13dvVtJ/tM05ErvrKrL3vkqV2987P/o6vXb+hzHE8/2M9N+vT2S7r69s1pnbuhuUJ5DtFSZ4aWWnP+W9KcoWs3b+7qq1Ne7IodfQZm39Z++8Z0vJMpc7M/vZZfTPmyA2kduQdTnTNHZ1Z67tBQnd8Lm3KGaMvC29fnn/P05smPNzbnaGxKFstsmszRxyLiAxHxlxHxN6Nj3RIRr42IHy+l3BkRF0TEO5fgPAEAVsRUv61Wa31DRLwh3fy5iHjmNMcFAFgtfj8QAKBR6hqYsyKQzZPWz7y2r4fW21rNn9f82OlcL7780q5+ydc/o6s3plktb/mrv+qPl3Ih15w51dXPv//P+sc71teHdlzf1e+/8h939efXp1kyY6adUzRhJmnCzFOePXTNlj7ncu3OXV/689V79nTbLt/d1zu39Pmr2ZRpOXCszwzdc+hgV38u12n/e1Om6NDQ2mLTroV2ZsIMUc72bU7vjXRtI2W2hjJEZV1+LdP++ec8Xa+xdf3ye+n7bgyWzK211uvzjT45AgBoaI4AABqaIwCAhswRrCVvvHm1z+CJy393pJlNX//lX97V3/U1X9vVd9x+e1f/h8/c0R/v4ou78orS5zAumT3T1QfW9bmRu9IcpPG10iIWvGHS7QMZovUpp3JJyhBdubnPuVyd5kZdnXJDV6Rc0d7t27/053UpU3P01Mmu/mLKDN11YH9Xf/bw4X57mmP0YM74jGWGUj03tHbZwByiM2fS9rR/zvjkOUNb04yrvNZZem3WjWWI+utZUn6u5AxTMpdW9qt5Xb+T/etTcybp+2WMlpHMEQDAEM0RAEBDcwQA0JhqQjawxPL8lJzNaLMQq50XHFsfqj/Xv7r33q6+YmefodmWcypp1kscOtSV9+3e3dcbU44kG1uPamDw0IQZorze2L6UIbp4Y5+BujzlXi7ftr2rL0nrm+1J++fHO3aqnwN19/5Hv/Tne3Nm6NjRrv58yrg8nDM++bUZyhTN5rlCk65llt/nfTk2Z2jnzrR94QzRppThyXXOENWUIcrvpJn0szeX6vyTWXPmKNf5555V55MjAICG5ggAoKE5AgBomHMEa9mbX9/XXY5mDa27djbpfDbs3tXVF6WMzv2PPNrVY5mf7dv6ek+fQRpbrypfn3ULz67ZkOodKQeyJ53vBSlTdMGmPhezN+VkdqT9N6T1tmbSLKAjKYP1UJo19MWUG7qvmQV0NGd4hjJE084hGlu7LM8dymuXpbxYyvyMrUWWZmjtTq/V9vRabUj7z6bzOZl+VE6mfNp4pqjfP2eQhv47OrY1Xa+ar3d+L3/fDy14fKZizhEAwBDNEQBAw9dqcC550+se+/Ma+NmdSP6qZUu/XEYcP77w/vn57tvb776r/9puffoabXP66mVb+upiZ9q+c33/Ndr29FXNlvTVz/p0vjPpq5oT6aupwzP9khj701ctj6R6Jv/6fB5V0G4f+5os75u25+U5FhohEXGW5Tm2LLw9f02Ujnd5uva70leQm9L2uXT/o+laHEnP92R678zkX6Wf8GuzoV/VH/8eLW3O1zt/zZl/td/XasvJ12oAAEM0RwAADc0RAEDD8iFwLmmXSTjZLx8xmNFZbfn8Nkz310852i+JsS39av/WlFvZkpaE2JwySRvS+Z1OuZ0Tp2bS9j4ncjzVR1Nu50TaXiddomPo1+/bTFP+1fqhXxXPGaEdO9L29Kv4OROTrt2Xp9d2Xzr+5g398c6kt8aRdL6PpvpouhYpwTOWARr/VfyFt4/95AxkjvItgz96+fXJowuGQkssO58cAQA0NEcAAA3NEQBAw5wjOFf97E/3dV7iIVvtn/WU8RnLtRw63Nc5o5Sl57Pz8ku7esvOnQvun2fZzKQcy+kURMkZpNmxIMvAHKKhTFHOBU1atzmioTlEKY+V62ds7vf/sh3buzpnhg6kpU5Op8zMoXSueabT4XxtBzJAs+m1zO/84UzRwhmhoczR2OYJ5xzFqf565eVR4vtvHDgAS8icIwCAIZojAICG5ggAoGHOEZyrXv+Wvn7z6/p6tTNGSy1nkPKcoeMnu/pkWrttdmDOUF3qDNHY9gXmEp1t+/r0b9fNm/t6V8pUNbmhkjJEz9y6taufsr3Pe+1J20uag3TwdD9T694TJ7r6iylzlOcQDWWAcmZoKFOUt4+thTaYKZpwLbTBn6WB4+X754zRUL6OFeeTIwCAhuYIAKChOQIAaMgcwfki5Ubi+PG+Xutrr2Ub019PeT2vE33GaDblXmZPpbXnxtYmG8gYDWWGcp33H1q/LL9eOWOU90/rlf3DLf39r2nmRu3btm3Bc3nkZJ8Zuu1IP2PqkTP9amWH83NNcuZnPDPU1zNjmaM1vhba0A5D28feO+mKbU6vNavOJ0cAAA3NEQBAQ3MEANCQOYLzxb9Oa6393Bv6OuVI1nwGaSx4cubs+31pe8p15PWrhjJCQ7mQsblDAxminBnKGaR0/b827X91mkV0QcoRrU8ZrANNxupThw7122b6a3csPfdJMz9jmaEJ5xKNrYU2kBFa9bXQps0cZZvS2nZr7WcPnxwBALQ0RwAADc0RAEBD5gjOV697U1+/+fV9ndcKW2nT5izyLJ8sz3nKQZqhtctyhihnjAYyRNeluURXpeNduLU//01p/8MpI/a3R4/021NG6kSTIxpfe2zhzNBM2n8m7T87MJdoaPvQXKK8dtlQ5mjqtdCWe3t2OuXlNg6stcaq88kRAEBDcwQA0NAcAQA0ZI7gyWLH9r4+0mdYln3uUQ6eDKzXNSafzpk0xyhnkPJabFNmiK7JGaLNW7r6gq19vW5d//gn0vN98HS/9tvh48e6+nieRTTBLKHxDNHj73u2Y+X7D80lyum1SecSTZoRGlorbcnnFo0PUprseOvSz1Z+b7Lm+OQIAKChOQIAaGiOAAAaZfC73pU4iVJW/yTgyeb/eGNf5wzPeDBkaR9/LAN1tK835EhkHs6TkjC7dvb1JRcv+PBPSbmPy9Oco30pU7Q+zUU6lTJBx1Km6PBMn/TJOZ6c08k5oElnD7X7T7q22fhcpEj1dBmiSTNCk66VtuLbJ80g5fdqyqfF99+48OOznG6ttV6fb/TJEQBAQ3MEANDQHAEANMw5gierm9/Y12/Ja68tcxQwz3opZ99t0dL5f33OGO3e09UnU4bowGyfGTp2us+NTJohGssUDew/NGtooRzRUIYor32WX+qxVffW3NpnAzdMO5do2gxSXrdw48a+zjO1WHO8QgAADc0RAEBDcwQA0JA5AubtTHOCDh3u66Vee22FZ6zlfwkenDmT6j4FlNcPG878PPE5RE/keIMZprS9nUWUl7HLVzo/t7EM0KQv9eBco4X3X/btS51RGto/zzXKPzuRMkisOT45AgBoaI4AABqaIwCAhswRMO9VN/X1W9/U16fT2mvZGlincSEnZ/sUz2xaC+1EmnM0eeZosu1Dx8/rmeUcUc4ktbmhSecQjb1y+cHGjjf24Avuv+a2L3XGaOjx8jqBa/xnBZ8cAQB0NEcAAA3NEQBAQ+YIOLub3tDXY2uvTfsAS72Y2sJOpPWuTg9ljgYyPxNniAbmGC2UITrb9vwCtLtPmgk65zNEQ9unXWttYPDTxjQj60yecxRbF3581hyfHAEANDRHAAANzREAQEPmCHhidu3q64OH+nrStddmcy5jeeU5R+tSxujUWOaoN2mGKM8WGlrvLGeMhpcze+K5lcF9B7cP3LDq24f2T8bWOuvvsDtliP7Bgfu7+uKH7+rq2VOnuvpPr31mV+9J7547XvLjAyfIavPJEQBAY7A5KqW8q5TyUCnlU81t+0opHy6lfHb0/3tHt5dSyq+VUu4spXyylPKM5Tx5AICl9kQ+OfrtiHhuuu2miPhIrfW6iPjIqI6I+PaIuG70vxsj4h1Lc5oAACtjMHNUa/2TUsrV6eYXRMSzR39+d0T8cUS8dnT779T5L7g/WkrZU0q5rNZ6fwDntle+tq9/Pq29dmrCtddqTuks79yjU/mGdD6nhjJEgxmjhfcfe/gJ9x8/wAIZpWkzRAOPNfX2pc4YZTlTNDvwapX+c4Jv+7s/7+qL7n7vgg+XT+eG9Y909a4DW7r6zaePL3g8Vt9iM0eXNA3PAxFxyejPV0TEPc1+945uAwA4J0z922q11lpKmXjcZynlxpj/6g0AYM1Y7CdHD5ZSLouIGP3/Q6Pb74uIq5r9rhzdNqbWekut9fpa6/WLPAcAgCW32E+OPhQRL4qIt47+//eb23+klPLeiPifI+KQvBGcp16b1177qbTDhLNnlnm9qZMpGFLSXKMzYxmex1+77Gzy/sMxmqVe72zBe094rNXOGCUDc4libnzluQW97FULbr70+X09k5ZGK/ljhfTwe2f/rKu3nnjip8baMNgclVJ+N+bD1xeWUu6NiDfEfFP0/lLKSyPi7oh44Wj3/yciviMi7oyI4xHx4mU4ZwCAZfNEflvtex5n03POsm+NiFdMe1IAAKvFhGwAgIa11YCl8ZQr+/qe9LsYtV+vKtav7+uxXMnSypminIvJa6VNOqdoMIcztvsKziJa9YxRMvZap9BOXohu0jzaQKZoyK99qK9/+LvT2aTTzU9n48a0//LG6VgGPjkCAGhojgAAGpojAICGzBGwNF708r7Oa6/Nzvb1upX9t9lsDn6k2ThDc4qGDGeIpls7baLt0+aZJn3swTlEQ889b0/HmzJDNK23v6+vcwZp01DGaHnjdCwDnxwBADQ0RwAADc0RAECjDH5PvhInUcrqnwSwvN78+r7etbOvDx3u67FMUvprYiZlmPLxLr6oK8vJU/32LZvT4fPaagNWck7REzneQmurTb22Wb77pJmi5GWvnGz/c8xAAou15dZa6/X5Rp8cAQA0NEcAAA3NEQBAw5wjYGV82VV9ffRYXy/z2mpj+cqheuwAgzdMeLylzBilG87xtc3OdTJG5z6fHAEANDRHAAANzREAQEPmCFgZee21n/2Zvp4bWHtt2iDHpJmjVZ1T9ES2J12M6Pxa2wxWmk+OAAAamiMAgIbmCACgIXMErI4zZ9INKecyNmpnytDR2Hpgc2ff74k+3pJniAYeL88myuc/8HQ65/naZjAtnxwBADQ0RwAADc0RAECjjK03tBonUcrqnwSwut5488LbhzI3u3b29cUX9fXRo329eXNfL3fGKMvPZ9JM1ELMJYIn6tZa6/X5Rp8cAQA0NEcAAA3NEQBAQ+YIWJt+7g19PZvWXpuZ6euhzNHhI329edPCj7/kGaKxwU0LHy+TI4LlIHMEADBEcwQA0NAcAQA0rK0GrE3btvb1wUOT3T9nfnJmaSwDNGBdyhTN5jlEE84lkiGCNcsnRwAADc0RAEBDcwQA0JA5AtamU325t/aZngNlyn/bpQjR2Nih9HiRxiqN3V+GCM4bPjkCAGhojgAAGpojAICGtdWANem/p/rNr/6+rv4vu6/qd9iZ1la79OK+3n+grzes7+uhDNPLX7XwduBcZG01AIAhmiMAgIbmCACgYc4RsCZ9MtVf9lCfQvqW9c/p6v9vz+6FD5jXanvpjyzyzIDznU+OAAAamiMAgIbmCACgIXMErEl/8919vfHMXV395Y/8dVd/8qqv6OrD+YDbBzJJACM+OQIAaGiOAAAamiMAgIbMEXBOqKWvdx7/i65+4X39Wmvbj+/q9z92X1f/m6U7NeA845MjAICG5ggAoKE5AgBoyBwBa9Lb39fXP5zmHs2m/S9+9INdved02mFuSU4LeBLwyREAQENzBADQ0BwBADRkjoBzUs03pH/q5blIdf1yng1wPvHJEQBAQ3MEANDQHAEANGSOgHNCnnv0Q/+8r1PEaDyTBPAE+eQIAKChOQIAaGiOAAAapdbV/2a+lLL6JwGc097yo329aWNfv/aXV+5cgHPGrbXW6/ONg58clVLeVUp5qJTyqea2Xyyl3FFK+WQp5T+VUvY0224updxZSvlMKeXbluz0AQBWwBP5Wu23I+K56bYPR8TTa61fGxF/GxE3R0SUUp4WETdExFeP7vP2Uoq5tADAOWPwV/lrrX9SSrk63fZfm/KjEfFdoz+/ICLeW2s9FRF3lVLujIhnRsSfLc3pApzdT//6ap8BcL5YikD2SyLiD0d/viIi7mm23Tu6DQDgnDDVEMhSyusjYiYi3rOI+94YETdO8/gAAEtt0c1RKeVfRsTzIuI59bFfebsvIq5qdrtydNuYWustEXHL6Fh+Ww0AWBMW9bVaKeW5EfGaiHh+rfV4s+lDEXFDKWVzKeWaiLguIv58+tMEAFgZg58clVJ+NyKeHREXllLujYg3xPxvp22OiA+XUiIiPlprfXmt9dOllPdHxG0x/3XbK2qts8t18gAAS80QSADgyWpxQyABAJ5MNEcAAA3NEQBAQ3MEANDQHAEANDRHAAANzREAQENzBADQ0BwBADQ0RwAADc0RAEBDcwQA0NAcAQA0NEcAAA3NEQBAQ3MEANDQHAEANDRHAAANzREAQENzBADQ0BwBADQ0RwAADc0RAEBDcwQA0NAcAQA0NEcAAA3NEQBAQ3MEANDQHAEANDRHAAANzREAQENzBADQ0BwBADQ0RwAADc0RAEBDcwQA0NAcAQA0NEcAAA3NEQBAQ3MEANDQHAEANDRHAAANzREAQENzBADQ0BwBADQ0RwAADc0RAEBDcwQA0NAcAQA0NEcAAA3NEQBAQ3MEANDQHAEANDRHAAANzREAQENzBADQ0BwBADQ0RwAADc0RAEBDcwQA0NAcAQA0Nqz2CYw8EhF3R8SFoz+zOK7f4rl2i+faTcf1WzzXbvFcu3lfdrYbS611pU/kcZVSPl5rvX61z+Nc5fotnmu3eK7ddFy/xXPtFs+1W5iv1QAAGpojAIDGWmuOblntEzjHuX6L59otnms3Hddv8Vy7xXPtFrCmMkcAAKttrX1yBACwqtZMc1RKeW4p5TOllDtLKTet9vmsZaWUq0opf1RKua2U8ulSyitHt+8rpXy4lPLZ0f/vXe1zXatKKetLKZ8opfzBqL6mlPKx0fvvfaWUTat9jmtVKWVPKeUDpZQ7Sim3l1K+0XvviSmlvHr0M/upUsrvllK2eO89vlLKu0opD5VSPtXcdtb3Wpn3a6Pr+MlSyjNW78xX3+Ncu18c/dx+spTyn0ope5ptN4+u3WdKKd+2Kie9hqyJ5qiUsj4ifiMivj0inhYR31NKedrqntWaNhMRP1FrfVpEPCsiXjG6XjdFxEdqrddFxEdGNWf3yoi4val/PiJ+pdb6FRFxICJeuipndW741Yj4z7XWp0bE18X8dfTeG1BKuSIifiwirq+1Pj0i1kfEDeG9t5Dfjojnptse77327RFx3eh/N0bEO1boHNeq347xa/fhiHh6rfVrI+JvI+LmiIjRfz9uiIivHt3n7aP/Lj9prYnmKCKeGRF31lo/V2s9HRHvjYgXrPI5rVm11vtrrX85+vORmP+P0xUxf83ePdrt3RHxnatygmtcKeXKiPinEfFbo7pExLdGxAdGu7h2j6OUsjsi/peIeGdERK31dK31YHjvPVEbImJrKWVDRGyLiPvDe+9x1Vr/JCL2p5sf7732goj4nTrvoxGxp5Ry2Yqc6Bp0tmtXa/2vtdaZUfnRiLhy9OcXRMR7a62naq13RcSdMf/f5SettdIcXRER9zT1vaPbGFBKuToiviEiPhYRl9Ra7x9teiAiLlmt81rj3hYRr4mIuVF9QUQcbP7S8P57fNdExMMR8e9HX0v+Ville3jvDaq13hcRvxQRX4j5puhQRNwa3nuTerz3mv+OTOYlEfGHoz+7dslaaY5YhFLKjoj4vYh4Va31cLutzv8aol9FTEopz4uIh2qtt672uZyjNkTEMyLiHbXWb4iIY5G+QvPeO7tRNuYFMd9gXh4R22P8aw8m4L22OKWU18d8POM9q30ua9VaaY7ui4irmvrK0W08jlLKxphvjN5Ta/3g6OYH//5j5NH/P7Ra57eGfXNEPL+U8vmY//r2W2M+Q7Nn9FVHhPffQu6NiHtrrR8b1R+I+WbJe2/YP4mIu2qtD9daz0TEB2P+/ei9N5nHe6/578gTUEr5lxHxvIj4F/WxWT6uXbJWmqO/iIjrRr+1sSnmg2EfWuVzWrNGGZl3RsTttdZfbjZ9KCJeNPrziyLi91f63Na6WuvNtdYra61Xx/z77L/VWv9FRPxRRHzXaDfX7nHUWh+IiHtKKV81uuk5EXFbeO89EV+IiGeVUraNfob//tp5703m8d5rH4qIHxj91tqzIuJQ8/UbMf9b4TEfKXh+rfV4s+lDEXFDKWVzKeWamA+1//lqnONasWaGQJZSviPmsyDrI+JdtdafXd0zWrtKKd8SEX8aEX8Tj+VmXhfzuaP3R8RTIuLuiHhhrTWHGRkppTw7In6y1vq8Usq1Mf9J0r6I+EREfF+t9dQqnt6aVUr5+pgPs2+KiM9FxItj/h9a3nsDSilviojvjvmvND4RET8Y89kO772zKKX8bkQ8O+ZXkH8wIt4QEf93nOW9Nmo4/23Mf1V5PCJeXGv9+Cqc9prwONfu5ojYHBGPjnb7aK315aP9Xx/zOaSZmI9q/GE+5pPJmmmOAADWgrXytRoAwJqgOQIAaGiOAAAamiMAgIbmCACgoTkCAGhojgAAGpojAIDG/w/4SBIg67F5dgAAAABJRU5ErkJggg==\n",
      "text/plain": [
       "<Figure size 720x720 with 1 Axes>"
      ]
     },
     "metadata": {
      "needs_background": "light"
     },
     "output_type": "display_data"
    }
   ],
   "source": [
    "plt.figure(figsize=(10, 10))\n",
    "plt.imshow(input_images[0].permute(1, 2, 0).detach().cpu().numpy())\n"
   ]
  },
  {
   "cell_type": "code",
   "execution_count": 3,
   "id": "d3cc6a10",
   "metadata": {},
   "outputs": [
    {
     "data": {
      "text/plain": [
       "torch.Size([1, 3, 137, 137])"
      ]
     },
     "execution_count": 3,
     "metadata": {},
     "output_type": "execute_result"
    }
   ],
   "source": [
    "input_images.shape"
   ]
  },
  {
   "cell_type": "code",
   "execution_count": 17,
   "id": "90aaeae6",
   "metadata": {},
   "outputs": [
    {
     "data": {
      "text/plain": [
       "tensor(0.4285)"
      ]
     },
     "execution_count": 17,
     "metadata": {},
     "output_type": "execute_result"
    }
   ],
   "source": [
    "batch['mesh']._verts_list[0].max()"
   ]
  },
  {
   "cell_type": "code",
   "execution_count": 12,
   "id": "8c5417a0",
   "metadata": {},
   "outputs": [
    {
     "data": {
      "text/plain": [
       "tensor([[[False, False, False,  ..., False, False, False],\n",
       "         [False, False, False,  ..., False, False, False],\n",
       "         [False, False, False,  ..., False, False, False],\n",
       "         ...,\n",
       "         [False, False, False,  ..., False, False, False],\n",
       "         [False, False, False,  ..., False, False, False],\n",
       "         [False, False, False,  ..., False, False, False]],\n",
       "\n",
       "        [[False, False, False,  ..., False, False, False],\n",
       "         [False, False, False,  ..., False, False, False],\n",
       "         [False, False, False,  ..., False, False, False],\n",
       "         ...,\n",
       "         [False, False, False,  ..., False, False, False],\n",
       "         [False, False, False,  ..., False, False, False],\n",
       "         [False, False, False,  ..., False, False, False]],\n",
       "\n",
       "        [[False, False, False,  ..., False, False, False],\n",
       "         [False, False, False,  ..., False, False, False],\n",
       "         [False, False, False,  ..., False, False, False],\n",
       "         ...,\n",
       "         [False, False, False,  ..., False, False, False],\n",
       "         [False, False, False,  ..., False, False, False],\n",
       "         [False, False, False,  ..., False, False, False]]], device='cuda:0')"
      ]
     },
     "execution_count": 12,
     "metadata": {},
     "output_type": "execute_result"
    }
   ],
   "source": [
    "with torch.enable_grad():\n",
    "    x = input_images[0] > 0\n",
    "x"
   ]
  },
  {
   "cell_type": "code",
   "execution_count": 5,
   "id": "34f863f8",
   "metadata": {},
   "outputs": [
    {
     "data": {
      "text/plain": [
       "torch.Size([10000, 3])"
      ]
     },
     "execution_count": 5,
     "metadata": {},
     "output_type": "execute_result"
    }
   ],
   "source": [
    "point_clouds._features_packed.shape"
   ]
  },
  {
   "cell_type": "code",
   "execution_count": 15,
   "id": "386a8aa1",
   "metadata": {},
   "outputs": [
    {
     "data": {
      "text/plain": [
       "torch.Size([1, 137, 137, 3])"
      ]
     },
     "execution_count": 15,
     "metadata": {},
     "output_type": "execute_result"
    }
   ],
   "source": [
    "out_images.permute(0, 2, 3, 1).shape"
   ]
  },
  {
   "cell_type": "code",
   "execution_count": 20,
   "id": "d9c0f87a",
   "metadata": {},
   "outputs": [
    {
     "name": "stdout",
     "output_type": "stream",
     "text": [
      "tensor(3.4990, device='cuda:0', grad_fn=<SumBackward0>)\n"
     ]
    }
   ],
   "source": [
    "out_sil = (1 - (1 - out_images.permute(0, 2, 3, 1)).prod(dim=-1))\n",
    "print(out_sil.sum())"
   ]
  },
  {
   "cell_type": "code",
   "execution_count": 21,
   "id": "b02ad311",
   "metadata": {},
   "outputs": [
    {
     "name": "stdout",
     "output_type": "stream",
     "text": [
      "tensor(75161.4453, device='cuda:0')\n"
     ]
    }
   ],
   "source": [
    "print((1 - (1 - images[0]).prod(dim=-1)).sum())"
   ]
  },
  {
   "cell_type": "code",
   "execution_count": 10,
   "id": "bc86fe9f",
   "metadata": {},
   "outputs": [
    {
     "data": {
      "text/plain": [
       "torch.Size([24, 137, 137])"
      ]
     },
     "execution_count": 10,
     "metadata": {},
     "output_type": "execute_result"
    }
   ],
   "source": [
    "(1 - (1 - images[0]).prod(dim=-1)).shape"
   ]
  }
 ],
 "metadata": {
  "kernelspec": {
   "display_name": "Python 3",
   "language": "python",
   "name": "python3"
  },
  "language_info": {
   "codemirror_mode": {
    "name": "ipython",
    "version": 3
   },
   "file_extension": ".py",
   "mimetype": "text/x-python",
   "name": "python",
   "nbconvert_exporter": "python",
   "pygments_lexer": "ipython3",
   "version": "3.8.5"
  }
 },
 "nbformat": 4,
 "nbformat_minor": 5
}
